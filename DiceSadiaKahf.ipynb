# I'm ommiting that each player has to click an Enter.
# So the code just goes around 10 times with an inner loop of 3 cycles.
#
# Create a 10 cycle loop with a 3 loop inner cycle.
from random import randrange
# Create 3 tuples to store each dice result.
# A "list" would not allow to write values into it.
P1 = ["","","","","","","","","","",""]
P2 = ["","","","","","","","","","",""]
P3 = ["","","","","","","","","","",""]
for Cycle10 in range(1,11): # 10 cycles.
  for Cycle3 in range(1,4): # 3 cycles. 1 for each Player.
    #print("Player {Player}".format(Player=Cycle3))
    # sEnter = str(input()) ## input to give Player some control over randomizer.
    num = (randrange(1,7))
    if num % 2 == 0:
      EvenOdd = "Even"
      if Cycle3 == 1:
        P1[Cycle10] = EvenOdd
      elif Cycle3 == 2:
        P2[Cycle10] = EvenOdd
      else:
        P3[Cycle10] = EvenOdd
    else:
      EvenOdd = "Odd"
      if Cycle3 == 1:
        P1[Cycle10] = EvenOdd
      elif Cycle3 == 2:
        P2[Cycle10] = EvenOdd
      else:
        P3[Cycle10] = EvenOdd
print(P1[1:11])
print(P2[1:11])
print(P3[1:11])
count1 = P1.count('Odd')
count2 = P2.count('Odd')
count3 = P3.count('Odd')
print(count1)
print(count2)
print(count3)
# "if" to detect if there is a winner.
if count1 > max(count2, count3):
  print("Winner is Player 1 with {win} ODD throws.".format(win = count1))
elif count2 > max(count1, count3):
  print("Winner is Player 2 with {win} ODD throws.".format(win = count2))
elif count3 > max(count1, count2):
  print("Winner is Player 3 with {win} ODD throws.".format(win = count3))
else: 
  # No winner so now we enter an "if" to detect who tied.
  if count1 == count2 and count2 == count3:
    print("All players are tied with {win} ODD throws.".format(win = count1))
  elif count1 == count2:
    print("Player 1 and 2 are tied with {win} ODD throws.".format(win = count1))
  elif count2 == count3:
    print("Player 2 and 3 are tied with {win} ODD throws.".format(win = count2))
  else:
    print("Player 1 and 3 are tied with {win} ODD throws.".format(win = count3))
  print("All 3 players play again until there is a winner.")
print("End of game.")
