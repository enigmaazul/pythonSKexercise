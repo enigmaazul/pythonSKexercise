{
  "nbformat": 4,
  "nbformat_minor": 0,
  "metadata": {
    "colab": {
      "name": "DiceSadiaKahf.ipynb",
      "provenance": [],
      "authorship_tag": "ABX9TyOa4+CGel1h6Ytu6L6tRlho"
    },
    "kernelspec": {
      "name": "python3",
      "display_name": "Python 3"
    },
    "language_info": {
      "name": "python"
    }
  },
  "cells": [
    {
      "cell_type": "code",
      "execution_count": null,
      "metadata": {
        "id": "Y3MldMgcA-Y9"
      },
      "outputs": [],
      "source": [
        "print(\"3 player dice\")\n",
        "print(\"Player with most Odd throws, wins.\")"
      ]
    },
    {
      "cell_type": "code",
      "source": [
        "# Create a 2 cycle loop with a 3 loop cycle.\n",
        "for item in range(1,3): # 2 cycles\n",
        "  for item2 in range(1,4): # 3 cycles\n",
        "    print(\"Player {Player}\".format(Player=item2))"
      ],
      "metadata": {
        "colab": {
          "base_uri": "https://localhost:8080/"
        },
        "id": "8UBv4FFWBrhR",
        "outputId": "a8825b45-2848-4d51-8393-76559265e5fa"
      },
      "execution_count": null,
      "outputs": [
        {
          "output_type": "stream",
          "name": "stdout",
          "text": [
            "Player 1\n",
            "Player 2\n",
            "Player 3\n",
            "Player 1\n",
            "Player 2\n",
            "Player 3\n"
          ]
        }
      ]
    },
    {
      "cell_type": "code",
      "source": [
        " # Create a 2 cycle loop with a 3 loop cycle.\n",
        "from random import randrange\n",
        "for item in range(1,3): # 2 cycles.\n",
        "  for item2 in range(1,4): # 3 cycles.\n",
        "    print(\"Player {Player}\".format(Player=item2))\n",
        "    sEnter = str(input()) ## input to trigger randomizer.\n",
        "    num = (randrange(1,7))\n",
        "    print(num)\n",
        "    if num % 2 == 0:\n",
        "      EvenOdd = \"Even\"\n",
        "      print(EvenOdd)\n",
        "    else:\n",
        "      EvenOdd = \"Odd\"\n",
        "      print(EvenOdd)"
      ],
      "metadata": {
        "id": "FEPX5owBLKpQ"
      },
      "execution_count": null,
      "outputs": []
    },
    {
      "cell_type": "code",
      "source": [
        "# Create a 2 cycle loop with a 3 loop cycle.\n",
        "from random import randrange\n",
        "P1 = [\"\",\"\",\"\",\"\",\"\",\"\",\"\",\"\",\"\",\"\",\"\"]\n",
        "P2 = []\n",
        "P3 = []\n",
        "#for item in range(1,3): # 2 cycles.\n",
        "for item in range(1,2): # 1 cycles.\n",
        "  for item2 in range(1,4): # 3 cycles. 1 for each Player.\n",
        "    print(\"Player {Player}\".format(Player=item2))\n",
        "    # sEnter = str(input()) ## input to give Player some control over randomizer.\n",
        "    num = (randrange(1,7))\n",
        "    if num % 2 == 0:\n",
        "      EvenOdd = \"Even\"\n",
        "      print(EvenOdd)\n",
        "      P1[item2] = EvenOdd\n",
        "    else:\n",
        "      EvenOdd = \"Odd\"\n",
        "      print(EvenOdd)\n",
        "      P1[item2] = EvenOdd\n",
        "\n",
        "#  for item3 in P1:\n",
        "#    print(str(item3))\n",
        "  print(P1)\n",
        "  print(\"End of game.\")"
      ],
      "metadata": {
        "id": "KSVpSyue2Vlx",
        "colab": {
          "base_uri": "https://localhost:8080/"
        },
        "outputId": "8af72f4d-e42d-4b49-d8d8-a4c1e8d3ca3e"
      },
      "execution_count": 25,
      "outputs": [
        {
          "output_type": "stream",
          "name": "stdout",
          "text": [
            "Player 1\n",
            "Odd\n",
            "Player 2\n",
            "Odd\n",
            "Player 3\n",
            "Even\n",
            "['', 'Odd', 'Odd', 'Even', '', '', '', '', '', '', '']\n",
            "End of game.\n"
          ]
        }
      ]
    },
    {
      "cell_type": "code",
      "source": [
        "# Create a 10 cycle loop with a 3 loop inner cycle.\n",
        "from random import randrange\n",
        "P1 = [\"\",\"\",\"\",\"\",\"\",\"\",\"\",\"\",\"\",\"\",\"\"]\n",
        "P2 = [\"\",\"\",\"\",\"\",\"\",\"\",\"\",\"\",\"\",\"\",\"\"]\n",
        "P3 = [\"\",\"\",\"\",\"\",\"\",\"\",\"\",\"\",\"\",\"\",\"\"]\n",
        "for Cycle10 in range(1,11): # 10 cycles.\n",
        "  for Cycle3 in range(1,4): # 3 cycles. 1 for each Player.\n",
        "    #print(\"Player {Player}\".format(Player=3Cycle))\n",
        "    # sEnter = str(input()) ## input to give Player some control over randomizer.\n",
        "    num = (randrange(1,7))\n",
        "    if num % 2 == 0:\n",
        "      EvenOdd = \"Even\"\n",
        "      if Cycle3 == 1:\n",
        "        P1[Cycle10] = EvenOdd\n",
        "      elif Cycle3 == 2:\n",
        "        P2[Cycle10] = EvenOdd\n",
        "      else:\n",
        "        P3[Cycle10] = EvenOdd\n",
        "    else:\n",
        "      EvenOdd = \"Odd\"\n",
        "      if Cycle3 == 1:\n",
        "        P1[Cycle10] = EvenOdd\n",
        "      elif Cycle3 == 2:\n",
        "        P2[Cycle10] = EvenOdd\n",
        "      else:\n",
        "        P3[Cycle10] = EvenOdd\n",
        "print(P1[1:11])\n",
        "print(P2[1:11])\n",
        "print(P3[1:11])\n",
        "count1 = P1.count('Odd')\n",
        "count2 = P2.count('Odd')\n",
        "count3 = P3.count('Odd')\n",
        "print(count1)\n",
        "print(count2)\n",
        "print(count3)\n",
        "print(\"End of game.\")"
      ],
      "metadata": {
        "colab": {
          "base_uri": "https://localhost:8080/"
        },
        "id": "WCHGkpYfKRJN",
        "outputId": "aa538fd3-09ba-4456-9e8e-37df68a8cc35"
      },
      "execution_count": null,
      "outputs": [
        {
          "output_type": "stream",
          "name": "stdout",
          "text": [
            "['Odd', 'Even', 'Even', 'Even', 'Odd', 'Odd', 'Odd', 'Odd', 'Odd', 'Odd']\n",
            "['Odd', 'Even', 'Even', 'Odd', 'Odd', 'Odd', 'Odd', 'Even', 'Odd', 'Even']\n",
            "['Even', 'Even', 'Odd', 'Odd', 'Even', 'Odd', 'Even', 'Odd', 'Even', 'Odd']\n",
            "7\n",
            "6\n",
            "5\n",
            "End of game.\n"
          ]
        }
      ]
    },
    {
      "cell_type": "code",
      "source": [
        "# I'm ommiting that each player has to click an Enter.\n",
        "# So the code just goes around 10 times with an inner loop of 3 cycles.\n",
        "#\n",
        "# Create a 10 cycle loop with a 3 loop inner cycle.\n",
        "from random import randrange\n",
        "# Create 3 tuples to store each dice result.\n",
        "# A \"list\" would not allow to write values into it.\n",
        "P1 = [\"\",\"\",\"\",\"\",\"\",\"\",\"\",\"\",\"\",\"\",\"\"]\n",
        "P2 = [\"\",\"\",\"\",\"\",\"\",\"\",\"\",\"\",\"\",\"\",\"\"]\n",
        "P3 = [\"\",\"\",\"\",\"\",\"\",\"\",\"\",\"\",\"\",\"\",\"\"]\n",
        "for Cycle10 in range(1,11): # 10 cycles.\n",
        "  for Cycle3 in range(1,4): # 3 cycles. 1 for each Player.\n",
        "    #print(\"Player {Player}\".format(Player=Cycle3))\n",
        "    # sEnter = str(input()) ## input to give Player some control over randomizer.\n",
        "    num = (randrange(1,7))\n",
        "    if num % 2 == 0:\n",
        "      EvenOdd = \"Even\"\n",
        "      if Cycle3 == 1:\n",
        "        P1[Cycle10] = EvenOdd\n",
        "      elif Cycle3 == 2:\n",
        "        P2[Cycle10] = EvenOdd\n",
        "      else:\n",
        "        P3[Cycle10] = EvenOdd\n",
        "    else:\n",
        "      EvenOdd = \"Odd\"\n",
        "      if Cycle3 == 1:\n",
        "        P1[Cycle10] = EvenOdd\n",
        "      elif Cycle3 == 2:\n",
        "        P2[Cycle10] = EvenOdd\n",
        "      else:\n",
        "        P3[Cycle10] = EvenOdd\n",
        "print(P1[1:11])\n",
        "print(P2[1:11])\n",
        "print(P3[1:11])\n",
        "count1 = P1.count('Odd')\n",
        "count2 = P2.count('Odd')\n",
        "count3 = P3.count('Odd')\n",
        "print(count1)\n",
        "print(count2)\n",
        "print(count3)\n",
        "# \"if\" to detect if there is a winner.\n",
        "if count1 > max(count2, count3):\n",
        "  print(\"Winner is Player 1 with {win} ODD throws.\".format(win = count1))\n",
        "elif count2 > max(count1, count3):\n",
        "  print(\"Winner is Player 2 with {win} ODD throws.\".format(win = count2))\n",
        "elif count3 > max(count1, count2):\n",
        "  print(\"Winner is Player 3 with {win} ODD throws.\".format(win = count3))\n",
        "else: \n",
        "  # No winner so now we enter an \"if\" to detect who tied.\n",
        "  if count1 == count2 and count2 == count3:\n",
        "    print(\"All players are tied with {win} ODD throws.\".format(win = count1))\n",
        "  elif count1 == count2:\n",
        "    print(\"Player 1 and 2 are tied with {win} ODD throws.\".format(win = count1))\n",
        "  elif count2 == count3:\n",
        "    print(\"Player 2 and 3 are tied with {win} ODD throws.\".format(win = count2))\n",
        "  else:\n",
        "    print(\"Player 1 and 3 are tied with {win} ODD throws.\".format(win = count3))\n",
        "  print(\"All 3 players play again until there is a winner.\")\n",
        "print(\"End of game.\")"
      ],
      "metadata": {
        "colab": {
          "base_uri": "https://localhost:8080/"
        },
        "id": "L6re1O2OTPKs",
        "outputId": "5ad8bbfd-f4f9-4b1a-c6c1-c28e5ff352c9"
      },
      "execution_count": 29,
      "outputs": [
        {
          "output_type": "stream",
          "name": "stdout",
          "text": [
            "['Even', 'Even', 'Odd', 'Even', 'Odd', 'Even', 'Odd', 'Odd', 'Odd', 'Even']\n",
            "['Even', 'Odd', 'Even', 'Even', 'Even', 'Odd', 'Odd', 'Even', 'Odd', 'Odd']\n",
            "['Odd', 'Even', 'Odd', 'Even', 'Odd', 'Even', 'Even', 'Even', 'Even', 'Even']\n",
            "5\n",
            "5\n",
            "3\n",
            "Player 1 and 2 are tied with 5 ODD throws.\n",
            "All 3 players play again until there is a winner.\n",
            "End of game.\n"
          ]
        }
      ]
    },
    {
      "cell_type": "code",
      "source": [
        ""
      ],
      "metadata": {
        "id": "Qts9pT7F1zV9"
      },
      "execution_count": null,
      "outputs": []
    }
  ]
}